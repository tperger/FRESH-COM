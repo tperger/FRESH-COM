{
 "cells": [
  {
   "cell_type": "markdown",
   "metadata": {},
   "source": [
    "# FRESH:COM\n",
    "\n"
   ]
  },
  {
   "cell_type": "markdown",
   "metadata": {},
   "source": [
    "## Objective and Scope \n",
    "\n",
    "The energy community model FRESH:COM is developed within the [Horizon 2020 project openENTRANCE](https://openentrance.eu). \n",
    "The model is used for quantitative analyses as part of case study 2 - Behaviour of communities of actors.\n",
    "\n",
    "### Expected results \n",
    "- Optimal design of the renewable technology portfolio for the community\n",
    "- Time series of total and shared hourly local generation, storage operation, load, and purchases needed from the public grid \n",
    "    - For each community actor\n",
    "    - For the community as a whole\n",
    "- Revenues streams of community actors and external supplier\n",
    "- Determination of the net present value of investment and operational results up to 15 years (forth-coming)\n",
    "- Analyses for Austria and 4 European ‘reference countries’ (forth-coming)\n",
    "- Quantitative upscaling of the short- and long-term local energy community potential is conducted for Europe as a whole (forth-coming)\n"
   ]
  },
  {
   "cell_type": "markdown",
   "metadata": {},
   "source": [
    "## Nomenclature \n",
    "### Input data\n",
    "Variable | Description      | Unit \n",
    ":--|:---------|:-----------:\n",
    "$q^{PV}_{i,t}$    | PV generation of prosumer $i$                          | kWh\n",
    "$q^{load}_{i,t}$  | Demand of prosumer $i$                                 | kWh\n",
    "$SoC_{i}^{max}$   | Maximum capacity of prosumer $i$'s battery             | kWh\n",
    "$q^{B_{max}}_{i}$ | Maximum (dis)charging power of prosumer $i$'s battery  | kW\n",
    "$\\eta^{B}$        | Efficiency of the batteries}                           | \n",
    "$w_{j}$           | Prosumer $j$'s weighting factor for marginal emissions | EUR/tCO2\n",
    "$wtp_{i,j,t}$     | Willingness-to-pay of prosumer $j$                     | EUR/kWh\n",
    "$p_{t}^{G_{in}}$  | Average spot market electricity price                  | EUR/kWh\n",
    "$p_{t}^{G_{out}}$ | Retailer's electricity price                           | EUR/kWh\n",
    "$e_{t}$           | Marginal emissions from the grid                       | tCO2/kWh\n",
    "$\\epsilon$        | Tolerance of the community                             | \n",
    "$\\alpha_{i}$      | Preference for avoiding emissions or costs when choosing a new member | \n",
    "\n",
    "### Output data\n",
    "Variable | Description      | Unit \n",
    ":--|:---------|:-----------:\n",
    "$q^{G_{in}}_{i,t}$  | Purchase of prosumer $i$ from the grid     | kWh\n",
    "$q^{G_{out}}_{i,t}$ | Sales from prosumer $i$ to the grid        | kWh\n",
    "$q^{share}_{i,j,t}$ | Purchase of prosumer $j$ from prosumer $i$ | kWh\n",
    "$q^{B_{in}}_{i,t}$  | Charging of prosumer $i$'s battery         | kWh\n",
    "$q^{B_{out}}_{i,t}$ | Discharging of prosumer $i$'s battery      | kWh\n",
    "$SoC_{i,t}$         | State of charge of prosumer $i$'s battery  | kWh"
   ]
  },
  {
   "cell_type": "markdown",
   "metadata": {},
   "source": [
    "## Data and Packages"
   ]
  },
  {
   "cell_type": "code",
   "execution_count": 1,
   "metadata": {},
   "outputs": [
    {
     "data": {
      "application/javascript": [
       "IPython.OutputArea.prototype._should_scroll = function(lines) { return false; }"
      ],
      "text/plain": [
       "<IPython.core.display.Javascript object>"
      ]
     },
     "metadata": {},
     "output_type": "display_data"
    },
    {
     "name": "stderr",
     "output_type": "stream",
     "text": [
      "pyam - INFO: Running in a notebook, setting `pyam` logging level to `logging.INFO` and adding stderr handler\n"
     ]
    }
   ],
   "source": [
    "# import packages\n",
    "import numpy as np\n",
    "import pandas as pd\n",
    "from pyomo.environ import *\n",
    "import matplotlib.pyplot as plt\n",
    "import seaborn as sns\n",
    "from datetime import tzinfo, timedelta, datetime, timezone\n",
    "\n",
    "import pyam\n",
    "import nomenclature\n",
    "\n",
    "%matplotlib inline"
   ]
  },
  {
   "cell_type": "markdown",
   "metadata": {},
   "source": [
    "### Model name and version, scenario, region"
   ]
  },
  {
   "cell_type": "code",
   "execution_count": 2,
   "metadata": {},
   "outputs": [],
   "source": [
    "model_name = 'FRESH:COM v1.0'\n",
    "scenario_name = 'Default scenario'\n",
    "region_name = 'Austria'\n",
    "filename_community = 'Input_data_community_small_example_IAMC.xlsx'\n",
    "filename_grid = 'Input_data_grid_small_example_IAMC.xlsx'\n",
    "filename_output = 'output_iamc.xlsx'"
   ]
  },
  {
   "cell_type": "markdown",
   "metadata": {},
   "source": [
    "## Load data from the IIASA scenario explorer"
   ]
  },
  {
   "cell_type": "code",
   "execution_count": 3,
   "metadata": {},
   "outputs": [
    {
     "name": "stderr",
     "output_type": "stream",
     "text": [
      "pyam.iiasa - INFO: You are connected to the IXSE_OPENENTRANCE scenario explorer hosted by IIASA. If you use this data in any published format, please cite the data as provided in the explorer guidelines: https://data.ene.iiasa.ac.at/openentrance/#/about\n",
      "pyam.iiasa - INFO: You are connected as user `tperger`\n",
      "pyam.iiasa - INFO: You are connected to the IXSE_OPENENTRANCE scenario explorer hosted by IIASA. If you use this data in any published format, please cite the data as provided in the explorer guidelines: https://data.ene.iiasa.ac.at/openentrance/#/about\n",
      "pyam.iiasa - INFO: You are connected as user `tperger`\n"
     ]
    }
   ],
   "source": [
    "# run `saving_credentials.py` with your username and password for the iiasa scenario explorer\n",
    "\n",
    "pyam.iiasa.Connection('openentrance')\n",
    "df = pyam.read_iiasa(\n",
    "    'openentrance',\n",
    "    model = 'GENeSYS-MOD 2.9.0-oe', \n",
    "    scenario = 'Societal Commitment 1.0')\n"
   ]
  },
  {
   "cell_type": "code",
   "execution_count": 4,
   "metadata": {},
   "outputs": [
    {
     "data": {
      "text/html": [
       "<div>\n",
       "<style scoped>\n",
       "    .dataframe tbody tr th:only-of-type {\n",
       "        vertical-align: middle;\n",
       "    }\n",
       "\n",
       "    .dataframe tbody tr th {\n",
       "        vertical-align: top;\n",
       "    }\n",
       "\n",
       "    .dataframe thead th {\n",
       "        text-align: right;\n",
       "    }\n",
       "</style>\n",
       "<table border=\"1\" class=\"dataframe\">\n",
       "  <thead>\n",
       "    <tr style=\"text-align: right;\">\n",
       "      <th></th>\n",
       "      <th>model</th>\n",
       "      <th>scenario</th>\n",
       "      <th>region</th>\n",
       "      <th>variable</th>\n",
       "      <th>unit</th>\n",
       "      <th>year</th>\n",
       "      <th>value</th>\n",
       "      <th>exclude</th>\n",
       "      <th>version</th>\n",
       "    </tr>\n",
       "  </thead>\n",
       "  <tbody>\n",
       "    <tr>\n",
       "      <th>0</th>\n",
       "      <td>GENeSYS-MOD 2.9.0-oe</td>\n",
       "      <td>Societal Commitment 1.0</td>\n",
       "      <td>Austria</td>\n",
       "      <td>Capacity|Electricity|Biomass</td>\n",
       "      <td>GW</td>\n",
       "      <td>2015</td>\n",
       "      <td>1.758000</td>\n",
       "      <td>False</td>\n",
       "      <td>1</td>\n",
       "    </tr>\n",
       "    <tr>\n",
       "      <th>1</th>\n",
       "      <td>GENeSYS-MOD 2.9.0-oe</td>\n",
       "      <td>Societal Commitment 1.0</td>\n",
       "      <td>Austria</td>\n",
       "      <td>Capacity|Electricity|Biomass</td>\n",
       "      <td>GW</td>\n",
       "      <td>2020</td>\n",
       "      <td>1.654000</td>\n",
       "      <td>False</td>\n",
       "      <td>1</td>\n",
       "    </tr>\n",
       "    <tr>\n",
       "      <th>2</th>\n",
       "      <td>GENeSYS-MOD 2.9.0-oe</td>\n",
       "      <td>Societal Commitment 1.0</td>\n",
       "      <td>Austria</td>\n",
       "      <td>Capacity|Electricity|Biomass</td>\n",
       "      <td>GW</td>\n",
       "      <td>2025</td>\n",
       "      <td>0.690000</td>\n",
       "      <td>False</td>\n",
       "      <td>1</td>\n",
       "    </tr>\n",
       "    <tr>\n",
       "      <th>3</th>\n",
       "      <td>GENeSYS-MOD 2.9.0-oe</td>\n",
       "      <td>Societal Commitment 1.0</td>\n",
       "      <td>Austria</td>\n",
       "      <td>Capacity|Electricity|Biomass</td>\n",
       "      <td>GW</td>\n",
       "      <td>2030</td>\n",
       "      <td>0.536000</td>\n",
       "      <td>False</td>\n",
       "      <td>1</td>\n",
       "    </tr>\n",
       "    <tr>\n",
       "      <th>4</th>\n",
       "      <td>GENeSYS-MOD 2.9.0-oe</td>\n",
       "      <td>Societal Commitment 1.0</td>\n",
       "      <td>Austria</td>\n",
       "      <td>Capacity|Electricity|Biomass</td>\n",
       "      <td>GW</td>\n",
       "      <td>2035</td>\n",
       "      <td>0.389000</td>\n",
       "      <td>False</td>\n",
       "      <td>1</td>\n",
       "    </tr>\n",
       "    <tr>\n",
       "      <th>...</th>\n",
       "      <td>...</td>\n",
       "      <td>...</td>\n",
       "      <td>...</td>\n",
       "      <td>...</td>\n",
       "      <td>...</td>\n",
       "      <td>...</td>\n",
       "      <td>...</td>\n",
       "      <td>...</td>\n",
       "      <td>...</td>\n",
       "    </tr>\n",
       "    <tr>\n",
       "      <th>11909</th>\n",
       "      <td>GENeSYS-MOD 2.9.0-oe</td>\n",
       "      <td>Societal Commitment 1.0</td>\n",
       "      <td>United Kingdom</td>\n",
       "      <td>Secondary Energy|Residential and Commercial He...</td>\n",
       "      <td>EJ/yr</td>\n",
       "      <td>2025</td>\n",
       "      <td>0.014316</td>\n",
       "      <td>False</td>\n",
       "      <td>1</td>\n",
       "    </tr>\n",
       "    <tr>\n",
       "      <th>11910</th>\n",
       "      <td>GENeSYS-MOD 2.9.0-oe</td>\n",
       "      <td>Societal Commitment 1.0</td>\n",
       "      <td>United Kingdom</td>\n",
       "      <td>Secondary Energy|Residential and Commercial He...</td>\n",
       "      <td>EJ/yr</td>\n",
       "      <td>2030</td>\n",
       "      <td>0.008590</td>\n",
       "      <td>False</td>\n",
       "      <td>1</td>\n",
       "    </tr>\n",
       "    <tr>\n",
       "      <th>11911</th>\n",
       "      <td>GENeSYS-MOD 2.9.0-oe</td>\n",
       "      <td>Societal Commitment 1.0</td>\n",
       "      <td>United Kingdom</td>\n",
       "      <td>Secondary Energy|Residential and Commercial He...</td>\n",
       "      <td>EJ/yr</td>\n",
       "      <td>2035</td>\n",
       "      <td>0.004295</td>\n",
       "      <td>False</td>\n",
       "      <td>1</td>\n",
       "    </tr>\n",
       "    <tr>\n",
       "      <th>11912</th>\n",
       "      <td>GENeSYS-MOD 2.9.0-oe</td>\n",
       "      <td>Societal Commitment 1.0</td>\n",
       "      <td>United Kingdom</td>\n",
       "      <td>Secondary Energy|Residential and Commercial He...</td>\n",
       "      <td>EJ/yr</td>\n",
       "      <td>2040</td>\n",
       "      <td>0.001748</td>\n",
       "      <td>False</td>\n",
       "      <td>1</td>\n",
       "    </tr>\n",
       "    <tr>\n",
       "      <th>11913</th>\n",
       "      <td>GENeSYS-MOD 2.9.0-oe</td>\n",
       "      <td>Societal Commitment 1.0</td>\n",
       "      <td>United Kingdom</td>\n",
       "      <td>Secondary Energy|Residential and Commercial He...</td>\n",
       "      <td>EJ/yr</td>\n",
       "      <td>2045</td>\n",
       "      <td>0.028359</td>\n",
       "      <td>False</td>\n",
       "      <td>1</td>\n",
       "    </tr>\n",
       "  </tbody>\n",
       "</table>\n",
       "<p>11914 rows × 9 columns</p>\n",
       "</div>"
      ],
      "text/plain": [
       "                      model                 scenario          region  \\\n",
       "0      GENeSYS-MOD 2.9.0-oe  Societal Commitment 1.0         Austria   \n",
       "1      GENeSYS-MOD 2.9.0-oe  Societal Commitment 1.0         Austria   \n",
       "2      GENeSYS-MOD 2.9.0-oe  Societal Commitment 1.0         Austria   \n",
       "3      GENeSYS-MOD 2.9.0-oe  Societal Commitment 1.0         Austria   \n",
       "4      GENeSYS-MOD 2.9.0-oe  Societal Commitment 1.0         Austria   \n",
       "...                     ...                      ...             ...   \n",
       "11909  GENeSYS-MOD 2.9.0-oe  Societal Commitment 1.0  United Kingdom   \n",
       "11910  GENeSYS-MOD 2.9.0-oe  Societal Commitment 1.0  United Kingdom   \n",
       "11911  GENeSYS-MOD 2.9.0-oe  Societal Commitment 1.0  United Kingdom   \n",
       "11912  GENeSYS-MOD 2.9.0-oe  Societal Commitment 1.0  United Kingdom   \n",
       "11913  GENeSYS-MOD 2.9.0-oe  Societal Commitment 1.0  United Kingdom   \n",
       "\n",
       "                                                variable   unit  year  \\\n",
       "0                           Capacity|Electricity|Biomass     GW  2015   \n",
       "1                           Capacity|Electricity|Biomass     GW  2020   \n",
       "2                           Capacity|Electricity|Biomass     GW  2025   \n",
       "3                           Capacity|Electricity|Biomass     GW  2030   \n",
       "4                           Capacity|Electricity|Biomass     GW  2035   \n",
       "...                                                  ...    ...   ...   \n",
       "11909  Secondary Energy|Residential and Commercial He...  EJ/yr  2025   \n",
       "11910  Secondary Energy|Residential and Commercial He...  EJ/yr  2030   \n",
       "11911  Secondary Energy|Residential and Commercial He...  EJ/yr  2035   \n",
       "11912  Secondary Energy|Residential and Commercial He...  EJ/yr  2040   \n",
       "11913  Secondary Energy|Residential and Commercial He...  EJ/yr  2045   \n",
       "\n",
       "          value  exclude version  \n",
       "0      1.758000    False       1  \n",
       "1      1.654000    False       1  \n",
       "2      0.690000    False       1  \n",
       "3      0.536000    False       1  \n",
       "4      0.389000    False       1  \n",
       "...         ...      ...     ...  \n",
       "11909  0.014316    False       1  \n",
       "11910  0.008590    False       1  \n",
       "11911  0.004295    False       1  \n",
       "11912  0.001748    False       1  \n",
       "11913  0.028359    False       1  \n",
       "\n",
       "[11914 rows x 9 columns]"
      ]
     },
     "execution_count": 4,
     "metadata": {},
     "output_type": "execute_result"
    }
   ],
   "source": [
    "df.as_pandas()"
   ]
  },
  {
   "cell_type": "code",
   "execution_count": 5,
   "metadata": {},
   "outputs": [],
   "source": [
    "def swap_subannual_for_time(df):\n",
    "    \"\"\"Convert an IamDataFrame with `year + subannual` to `datetime` domain\"\"\"\n",
    "    if df.time_col == 'time':\n",
    "        raise ValueError('The IamDataFrame already has `time` domain!')\n",
    "\n",
    "    _data = df.data.copy()  # `copy()` can be removed after pyam release 0.8.0\n",
    "    _data['time'] = _data['year'].astype('string')+'-'+_data['subannual'] \n",
    "\n",
    "    return pyam.IamDataFrame(_data)"
   ]
  },
  {
   "cell_type": "code",
   "execution_count": null,
   "metadata": {},
   "outputs": [],
   "source": [
    "pyam.iiasa.Connection('openentrance')\n",
    "df = pyam.read_iiasa(\n",
    "    'openentrance',\n",
    "    model = 'FRESH:COM v1.0', \n",
    "    scenario = 'Default scenario')"
   ]
  },
  {
   "cell_type": "code",
   "execution_count": null,
   "metadata": {},
   "outputs": [],
   "source": [
    "df = swap_subannual_for_time(df)"
   ]
  },
  {
   "cell_type": "markdown",
   "metadata": {},
   "source": [
    "### Aggregation in the time domain: preparation"
   ]
  },
  {
   "cell_type": "code",
   "execution_count": 6,
   "metadata": {},
   "outputs": [],
   "source": [
    "time_zone = '+01:00' # deviation from UTC (+01:00 is CET)\n",
    "start_date = '2019-01-01 00:00' # YYYY-MM-DD HH:MM\n",
    "number_days = 365\n",
    "delta = timedelta(hours=1) # resolution ... hourly"
   ]
  },
  {
   "cell_type": "code",
   "execution_count": 7,
   "metadata": {},
   "outputs": [],
   "source": [
    "time_steps = []\n",
    "for t in range(24*number_days):\n",
    "    time_steps.append((datetime.fromisoformat(start_date+time_zone)+t*delta))"
   ]
  },
  {
   "cell_type": "code",
   "execution_count": 8,
   "metadata": {},
   "outputs": [],
   "source": [
    "index_time = list(range(len(time_steps)))"
   ]
  },
  {
   "cell_type": "markdown",
   "metadata": {},
   "source": [
    "## Read Input Data (from the IAMC Format)"
   ]
  },
  {
   "cell_type": "code",
   "execution_count": 9,
   "metadata": {},
   "outputs": [],
   "source": [
    "file_community = pd.ExcelFile(filename_community)"
   ]
  },
  {
   "cell_type": "code",
   "execution_count": 10,
   "metadata": {},
   "outputs": [
    {
     "data": {
      "text/plain": [
       "['Prosumer 1',\n",
       " 'Prosumer 2',\n",
       " 'Prosumer 3',\n",
       " 'Prosumer 4',\n",
       " 'Prosumer 5',\n",
       " 'Prosumer 6']"
      ]
     },
     "execution_count": 10,
     "metadata": {},
     "output_type": "execute_result"
    }
   ],
   "source": [
    "prosumer = file_community.sheet_names\n",
    "prosumer"
   ]
  },
  {
   "cell_type": "markdown",
   "metadata": {},
   "source": [
    "### Validation of the nomenclature of the input data\n",
    "\n",
    "For details on the data format according to openENTRANCE see: https://github.com/openENTRANCE/nomenclature.\n"
   ]
  },
  {
   "cell_type": "code",
   "execution_count": 11,
   "metadata": {},
   "outputs": [
    {
     "name": "stdout",
     "output_type": "stream",
     "text": [
      "True\n",
      "True\n",
      "True\n",
      "True\n",
      "True\n",
      "True\n"
     ]
    }
   ],
   "source": [
    "# check all sheets of the xlsx-input file seperately\n",
    "for i in prosumer:\n",
    "    _df = pd.read_excel(file_community, i)\n",
    "    print(nomenclature.validate(_df))"
   ]
  },
  {
   "cell_type": "markdown",
   "metadata": {},
   "source": [
    "### Electricity demand, PV generation, and other prosumer data"
   ]
  },
  {
   "cell_type": "code",
   "execution_count": 12,
   "metadata": {},
   "outputs": [],
   "source": [
    "variable_load = 'Final Energy|Residential and Commercial|Electricity'\n",
    "variable_PV = 'Secondary Energy|Electricity|Solar|PV'"
   ]
  },
  {
   "cell_type": "code",
   "execution_count": 13,
   "metadata": {},
   "outputs": [],
   "source": [
    "SoC_max = 'Maximum Storage|Electricity|Energy Storage System'\n",
    "SoC_min = 'Minimum Storage|Electricity|Energy Storage System'\n",
    "q_bat_max = 'Maximum Charge|Electricity|Energy Storage System'\n",
    "q_bat_min = 'Maximum Discharge|Electricity|Energy Storage System'\n",
    "PV_capacity = 'Maximum Active power|Electricity|Solar'\n",
    "w = 'Price|Carbon'\n",
    "\n",
    "_a = [SoC_max, SoC_min, q_bat_max, q_bat_min, PV_capacity, w]"
   ]
  },
  {
   "cell_type": "code",
   "execution_count": 14,
   "metadata": {},
   "outputs": [],
   "source": [
    "load = pd.DataFrame()\n",
    "PV = pd.DataFrame()\n",
    "prosumer_data = pd.DataFrame()"
   ]
  },
  {
   "cell_type": "code",
   "execution_count": 15,
   "metadata": {},
   "outputs": [],
   "source": [
    "for i in prosumer:\n",
    "    # read excel sheet and convert to pyam.IamDataFrame\n",
    "    _df = pd.read_excel(file_community, i)\n",
    "    _df_pyam = pyam.IamDataFrame(_df)\n",
    "    \n",
    "    # filter data (load)\n",
    "    _data = (_df_pyam\n",
    "        .filter(variable=variable_load)\n",
    "        .filter(region=region_name)\n",
    "        .filter(model=model_name)\n",
    "        .filter(scenario=scenario_name)\n",
    "        .filter(time=time_steps))\n",
    "    _b = _data.as_pandas().set_index('time')\n",
    "    load = pd.concat([load, _b['value'].reindex(time_steps)], axis=1).rename(columns={'value':i})\n",
    "    # filter data (PV)\n",
    "    _data = (_df_pyam\n",
    "        .filter(variable=variable_PV)\n",
    "        .filter(region=region_name)\n",
    "        .filter(model=model_name)\n",
    "        .filter(scenario=scenario_name)\n",
    "        .filter(time=time_steps))\n",
    "    _b = _data.as_pandas().set_index('time')\n",
    "    PV = pd.concat([PV, _b['value'].reindex(time_steps)], axis=1).rename(columns={'value':i})\n",
    "    # Prosumer data (other)\n",
    "    _data = (_df_pyam\n",
    "        .filter(variable=_a)\n",
    "        .filter(region=region_name)\n",
    "        .filter(model=model_name)\n",
    "        .filter(scenario=scenario_name))\n",
    "    _b = _data.as_pandas().set_index('variable')\n",
    "    prosumer_data = pd.concat([prosumer_data, _b['value'].reindex(_a)], axis=1).rename(columns={'value':i})"
   ]
  },
  {
   "cell_type": "code",
   "execution_count": 16,
   "metadata": {},
   "outputs": [
    {
     "data": {
      "image/png": "[encoded data removed]",
      "text/plain": [
       "<Figure size 432x288 with 1 Axes>"
      ]
     },
     "metadata": {
      "needs_background": "light"
     },
     "output_type": "display_data"
    }
   ],
   "source": [
    "sum_load = [sum(load[s]) for s in prosumer] \n",
    "sum_PV = [sum(PV[s]) for s in prosumer]\n",
    "barWidth = 0.3\n",
    "r1 = np.arange(len(sum_load))\n",
    "r2 = [x + barWidth for x in r1]\n",
    "plt.bar(r1, sum_load, width = barWidth)\n",
    "plt.bar(r2, sum_PV, width = barWidth)\n",
    "plt.xticks(r1, np.arange(1,len(prosumer)+1))\n",
    "plt.xlabel('Prosumer')\n",
    "plt.ylabel('Total demand/generation in kWh')\n",
    "plt.legend(['Total demand', 'Total PV generation'])\n",
    "plt.show()"
   ]
  },
  {
   "cell_type": "markdown",
   "metadata": {},
   "source": [
    "### Prices "
   ]
  },
  {
   "cell_type": "code",
   "execution_count": 17,
   "metadata": {},
   "outputs": [],
   "source": [
    "_df = pd.read_excel(filename_grid)\n",
    "_df_pyam = pyam.IamDataFrame(_df)"
   ]
  },
  {
   "cell_type": "code",
   "execution_count": 18,
   "metadata": {},
   "outputs": [],
   "source": [
    "_data = (_df_pyam\n",
    "        .filter(variable='Price|Final Energy|Residential|Electricity')\n",
    "        .filter(region=region_name)\n",
    "        .filter(model=model_name)\n",
    "        .filter(scenario=scenario_name))\n",
    "p_grid_in = _data['value'].values[0]/1000\n",
    "\n",
    "_data = (_df_pyam\n",
    "        .filter(variable='Price|Secondary Energy|Electricity')\n",
    "        .filter(region=region_name)\n",
    "        .filter(model=model_name)\n",
    "        .filter(scenario=scenario_name))\n",
    "p_grid_out = _data['value'].values[0]/1000"
   ]
  },
  {
   "cell_type": "markdown",
   "metadata": {},
   "source": [
    "### Emissions"
   ]
  },
  {
   "cell_type": "code",
   "execution_count": 19,
   "metadata": {},
   "outputs": [],
   "source": [
    "emissions = pd.DataFrame()\n",
    "\n",
    "_data = (_df_pyam\n",
    "        .filter(variable='Emissions|CO2')\n",
    "        .filter(region=region_name)\n",
    "        .filter(model=model_name)\n",
    "        .filter(scenario=scenario_name)\n",
    "        .filter(time=time_steps))\n",
    "_b = _data.as_pandas().set_index('time')\n",
    "emissions = pd.concat([emissions, _b['value'].reindex(time_steps)], axis=1).rename(columns={'value':'Emissions'})"
   ]
  },
  {
   "cell_type": "code",
   "execution_count": 20,
   "metadata": {},
   "outputs": [
    {
     "data": {
      "text/html": [
       "<div>\n",
       "<style scoped>\n",
       "    .dataframe tbody tr th:only-of-type {\n",
       "        vertical-align: middle;\n",
       "    }\n",
       "\n",
       "    .dataframe tbody tr th {\n",
       "        vertical-align: top;\n",
       "    }\n",
       "\n",
       "    .dataframe thead th {\n",
       "        text-align: right;\n",
       "    }\n",
       "</style>\n",
       "<table border=\"1\" class=\"dataframe\">\n",
       "  <thead>\n",
       "    <tr style=\"text-align: right;\">\n",
       "      <th></th>\n",
       "      <th>Emissions</th>\n",
       "    </tr>\n",
       "  </thead>\n",
       "  <tbody>\n",
       "    <tr>\n",
       "      <th>2019-01-01 00:00:00+01:00</th>\n",
       "      <td>527.400956</td>\n",
       "    </tr>\n",
       "    <tr>\n",
       "      <th>2019-01-01 01:00:00+01:00</th>\n",
       "      <td>538.017255</td>\n",
       "    </tr>\n",
       "    <tr>\n",
       "      <th>2019-01-01 02:00:00+01:00</th>\n",
       "      <td>540.011909</td>\n",
       "    </tr>\n",
       "    <tr>\n",
       "      <th>2019-01-01 03:00:00+01:00</th>\n",
       "      <td>550.346282</td>\n",
       "    </tr>\n",
       "    <tr>\n",
       "      <th>2019-01-01 04:00:00+01:00</th>\n",
       "      <td>543.508113</td>\n",
       "    </tr>\n",
       "    <tr>\n",
       "      <th>...</th>\n",
       "      <td>...</td>\n",
       "    </tr>\n",
       "    <tr>\n",
       "      <th>2019-12-31 19:00:00+01:00</th>\n",
       "      <td>240.139864</td>\n",
       "    </tr>\n",
       "    <tr>\n",
       "      <th>2019-12-31 20:00:00+01:00</th>\n",
       "      <td>247.176946</td>\n",
       "    </tr>\n",
       "    <tr>\n",
       "      <th>2019-12-31 21:00:00+01:00</th>\n",
       "      <td>248.432174</td>\n",
       "    </tr>\n",
       "    <tr>\n",
       "      <th>2019-12-31 22:00:00+01:00</th>\n",
       "      <td>237.047296</td>\n",
       "    </tr>\n",
       "    <tr>\n",
       "      <th>2019-12-31 23:00:00+01:00</th>\n",
       "      <td>252.632859</td>\n",
       "    </tr>\n",
       "  </tbody>\n",
       "</table>\n",
       "<p>8760 rows × 1 columns</p>\n",
       "</div>"
      ],
      "text/plain": [
       "                            Emissions\n",
       "2019-01-01 00:00:00+01:00  527.400956\n",
       "2019-01-01 01:00:00+01:00  538.017255\n",
       "2019-01-01 02:00:00+01:00  540.011909\n",
       "2019-01-01 03:00:00+01:00  550.346282\n",
       "2019-01-01 04:00:00+01:00  543.508113\n",
       "...                               ...\n",
       "2019-12-31 19:00:00+01:00  240.139864\n",
       "2019-12-31 20:00:00+01:00  247.176946\n",
       "2019-12-31 21:00:00+01:00  248.432174\n",
       "2019-12-31 22:00:00+01:00  237.047296\n",
       "2019-12-31 23:00:00+01:00  252.632859\n",
       "\n",
       "[8760 rows x 1 columns]"
      ]
     },
     "execution_count": 20,
     "metadata": {},
     "output_type": "execute_result"
    }
   ],
   "source": [
    "emissions"
   ]
  },
  {
   "cell_type": "code",
   "execution_count": 21,
   "metadata": {},
   "outputs": [
    {
     "data": {
      "text/html": [
       "<div>\n",
       "<style scoped>\n",
       "    .dataframe tbody tr th:only-of-type {\n",
       "        vertical-align: middle;\n",
       "    }\n",
       "\n",
       "    .dataframe tbody tr th {\n",
       "        vertical-align: top;\n",
       "    }\n",
       "\n",
       "    .dataframe thead th {\n",
       "        text-align: right;\n",
       "    }\n",
       "</style>\n",
       "<table border=\"1\" class=\"dataframe\">\n",
       "  <thead>\n",
       "    <tr style=\"text-align: right;\">\n",
       "      <th></th>\n",
       "      <th>Prosumer 1</th>\n",
       "      <th>Prosumer 2</th>\n",
       "      <th>Prosumer 3</th>\n",
       "      <th>Prosumer 4</th>\n",
       "      <th>Prosumer 5</th>\n",
       "      <th>Prosumer 6</th>\n",
       "    </tr>\n",
       "    <tr>\n",
       "      <th>variable</th>\n",
       "      <th></th>\n",
       "      <th></th>\n",
       "      <th></th>\n",
       "      <th></th>\n",
       "      <th></th>\n",
       "      <th></th>\n",
       "    </tr>\n",
       "  </thead>\n",
       "  <tbody>\n",
       "    <tr>\n",
       "      <th>Maximum Storage|Electricity|Energy Storage System</th>\n",
       "      <td>0.0</td>\n",
       "      <td>4.0</td>\n",
       "      <td>0.0</td>\n",
       "      <td>5.0</td>\n",
       "      <td>0.0</td>\n",
       "      <td>0.0</td>\n",
       "    </tr>\n",
       "    <tr>\n",
       "      <th>Minimum Storage|Electricity|Energy Storage System</th>\n",
       "      <td>0.0</td>\n",
       "      <td>0.0</td>\n",
       "      <td>0.0</td>\n",
       "      <td>0.0</td>\n",
       "      <td>0.0</td>\n",
       "      <td>0.0</td>\n",
       "    </tr>\n",
       "    <tr>\n",
       "      <th>Maximum Charge|Electricity|Energy Storage System</th>\n",
       "      <td>0.0</td>\n",
       "      <td>1.0</td>\n",
       "      <td>0.0</td>\n",
       "      <td>1.0</td>\n",
       "      <td>0.0</td>\n",
       "      <td>0.0</td>\n",
       "    </tr>\n",
       "    <tr>\n",
       "      <th>Maximum Discharge|Electricity|Energy Storage System</th>\n",
       "      <td>0.0</td>\n",
       "      <td>1.0</td>\n",
       "      <td>0.0</td>\n",
       "      <td>1.0</td>\n",
       "      <td>0.0</td>\n",
       "      <td>0.0</td>\n",
       "    </tr>\n",
       "    <tr>\n",
       "      <th>Maximum Active power|Electricity|Solar</th>\n",
       "      <td>5.0</td>\n",
       "      <td>6.0</td>\n",
       "      <td>3.0</td>\n",
       "      <td>5.0</td>\n",
       "      <td>5.0</td>\n",
       "      <td>0.0</td>\n",
       "    </tr>\n",
       "    <tr>\n",
       "      <th>Price|Carbon</th>\n",
       "      <td>10.0</td>\n",
       "      <td>70.0</td>\n",
       "      <td>100.0</td>\n",
       "      <td>50.0</td>\n",
       "      <td>20.0</td>\n",
       "      <td>80.0</td>\n",
       "    </tr>\n",
       "  </tbody>\n",
       "</table>\n",
       "</div>"
      ],
      "text/plain": [
       "                                                    Prosumer 1  Prosumer 2  \\\n",
       "variable                                                                     \n",
       "Maximum Storage|Electricity|Energy Storage System          0.0         4.0   \n",
       "Minimum Storage|Electricity|Energy Storage System          0.0         0.0   \n",
       "Maximum Charge|Electricity|Energy Storage System           0.0         1.0   \n",
       "Maximum Discharge|Electricity|Energy Storage Sy...         0.0         1.0   \n",
       "Maximum Active power|Electricity|Solar                     5.0         6.0   \n",
       "Price|Carbon                                              10.0        70.0   \n",
       "\n",
       "                                                    Prosumer 3  Prosumer 4  \\\n",
       "variable                                                                     \n",
       "Maximum Storage|Electricity|Energy Storage System          0.0         5.0   \n",
       "Minimum Storage|Electricity|Energy Storage System          0.0         0.0   \n",
       "Maximum Charge|Electricity|Energy Storage System           0.0         1.0   \n",
       "Maximum Discharge|Electricity|Energy Storage Sy...         0.0         1.0   \n",
       "Maximum Active power|Electricity|Solar                     3.0         5.0   \n",
       "Price|Carbon                                             100.0        50.0   \n",
       "\n",
       "                                                    Prosumer 5  Prosumer 6  \n",
       "variable                                                                    \n",
       "Maximum Storage|Electricity|Energy Storage System          0.0         0.0  \n",
       "Minimum Storage|Electricity|Energy Storage System          0.0         0.0  \n",
       "Maximum Charge|Electricity|Energy Storage System           0.0         0.0  \n",
       "Maximum Discharge|Electricity|Energy Storage Sy...         0.0         0.0  \n",
       "Maximum Active power|Electricity|Solar                     5.0         0.0  \n",
       "Price|Carbon                                              20.0        80.0  "
      ]
     },
     "execution_count": 21,
     "metadata": {},
     "output_type": "execute_result"
    }
   ],
   "source": [
    "# show table / pandas dataframe of prosumer parameter\n",
    "prosumer_data"
   ]
  },
  {
   "cell_type": "code",
   "execution_count": 22,
   "metadata": {},
   "outputs": [],
   "source": [
    "eta_battery = 0.9"
   ]
  },
  {
   "cell_type": "code",
   "execution_count": 23,
   "metadata": {},
   "outputs": [],
   "source": [
    "distances = pd.read_excel('Input_data_community_small_example.xlsx', \n",
    "                              sheet_name='Distances', \n",
    "                              header=0, \n",
    "                              index_col='Prosumer')"
   ]
  },
  {
   "cell_type": "markdown",
   "metadata": {},
   "source": [
    "## Pyomo Optimization Model\n"
   ]
  },
  {
   "cell_type": "markdown",
   "metadata": {},
   "source": [
    "## Sets\n",
    "\n",
    "$N$ ... number of prosumers of original community\n",
    "\n",
    "$n$ ... number of potential new prosumers (candidates)\n",
    "\n",
    "$n_{max}, n_{min}$ ... number of maxiumum/minimum number of new prosumers\n",
    "\n",
    "## Decision variables\n",
    "\n",
    "$q_{i,t}^{G_{in}},q_{i,t}^{G_{out}},q_{i,j,t}^{share},q_{i,t}^{B_{in}},q_{i,t}^{B_{out}},SoC_{i,t}\\in\\mathbb{R}^{+}$\n",
    "\n",
    "$b_{i}\\in\\{0,1\\}$ ... for $i\\in n$\n",
    "\n",
    "$b_{i}=1$ ... for $i\\in N$\n",
    "\n",
    "## Objective function\n",
    "\n",
    "$\\underset{\\substack{\\{q_{i,t}^{G_{in}},q_{i,t}^{G_{out}},q_{i,j,t}^{share},q_{i,t}^{B_{in}},q_{i,t}^{B_{out}},SoC_{i,t},b_{i}\\}}}{\\text{max}} \\sum_{t\\in\\mathcal{T},i\\in\\mathcal{I}}^{}p_t^{G_{out}}q_{i,t}^{G_{out}}-\\sum_{t\\in\\mathcal{T},i\\in\\mathcal{I}}^{}p_t^{G_{in}}q_{i,t}^{G_{in}}+\\sum_{t\\in\\mathcal{T},i,j\\in\\mathcal{I}}^{}wtp_{i,j,t}q_{i,j,t}^{share}$\n",
    "\n",
    "## Constraints\n",
    "\n",
    "$b_{i}q_{i,t}^{load}=q_{i,t}^{G_{in}}+q_{i,t}^{B_{out}}+\\sum_{j\\in\\mathcal{I}}^{}q_{j,i,t}^{share}$\n",
    "\n",
    "$b_{i}q_{i,t}^{PV}=q_{i,t}^{G_{out}}+q_{i,t}^{B_{in}}+\\sum_{j\\in\\mathcal{I}}^{}q_{i,j,t}^{share}$\n",
    "\n",
    "$SoC_{i,t}=SoC_{i,t-1}+q_{i,t}^{B_{in}}\\cdot\\eta^B-q_{i,t}^{B_{out}}/\\eta^B$\n",
    "\n",
    "$SoC_{i}^{min}\\leq SoC_{i,t}\\leq b_{i}SoC_{i}^{max}$\n",
    "\n",
    "$q_{i,t}^{B_{in}},q_{i,t}^{B_{out}}\\leq b_{i}q_{i}^{B_{max}}$\n",
    "\n",
    "$q_{i,t}^{G_{in}},q_{i,t}^{G_{out}},q_{i,j,t}^{share},q_{i,t}^{B_{in}},q_{i,t}^{B_{out}},SoC_{i,t}\\geq0$\n",
    "\n",
    "### Additional (optional) constrains \n",
    "\n",
    "$\\sum_{i}^{}b_{i} >= N+n_{min}$\n",
    "\n",
    "$\\sum_{i}^{}b_{i} <= N+n_{max}$\n",
    "\n",
    "## Check results\n",
    "$\\alpha_i \\Delta_{Costs,i}+ (1-\\alpha_i)\\Delta_{Emissions,i} \\leq \\epsilon$\n"
   ]
  },
  {
   "cell_type": "code",
   "execution_count": 24,
   "metadata": {},
   "outputs": [],
   "source": [
    "N = 4 # number of 'old' prosumers\n",
    "n = 2 # number of 'new' prosumers\n",
    "#prosumer_old = prosumer[0:N] \n",
    "#prosumer_new = prosumer[N:N+n]\n",
    "prosumer_old = (['Prosumer 1','Prosumer 3','Prosumer 5','Prosumer 6'])\n"
   ]
  },
  {
   "cell_type": "code",
   "execution_count": 25,
   "metadata": {},
   "outputs": [],
   "source": [
    "# deactivate BESS\n",
    "#for i in prosumer:\n",
    "#    prosumer_data.loc['SoC_max',i] = 0\n",
    "#    prosumer_data.loc['q_bat_max',i] = 0"
   ]
  },
  {
   "cell_type": "markdown",
   "metadata": {},
   "source": [
    "## Solve optimization problem for old community and define benchmarks\n",
    "\n",
    "... as LP"
   ]
  },
  {
   "cell_type": "code",
   "execution_count": 26,
   "metadata": {},
   "outputs": [],
   "source": [
    "# Define model as concrete model\n",
    "model = ConcreteModel()\n",
    "\n",
    "#Define optimization variables \n",
    "model.q_share = Var(time_steps, prosumer_old, prosumer_old, within = NonNegativeReals)\n",
    "model.q_grid_in = Var(time_steps, prosumer_old, within = NonNegativeReals)\n",
    "model.q_grid_out = Var(time_steps, prosumer_old, within = NonNegativeReals)\n",
    "model.q_bat_in = Var(time_steps, prosumer_old, within = NonNegativeReals)\n",
    "model.q_bat_out = Var(time_steps, prosumer_old, within = NonNegativeReals)\n",
    "model.SoC = Var(time_steps, prosumer_old, within = NonNegativeReals)"
   ]
  },
  {
   "cell_type": "code",
   "execution_count": 27,
   "metadata": {},
   "outputs": [],
   "source": [
    "# Define constraints\n",
    "def load_constraint_rule(model, i, t):    \n",
    "    return model.q_grid_in[t,i] + model.q_bat_out[t,i] + sum(model.q_share[t,j,i] for j in prosumer_old) == load.loc[t,i]\n",
    "model.load_con = Constraint(prosumer_old, time_steps, rule = load_constraint_rule)\n",
    "\n",
    "def PV_constraint_rule(model, i, t):    \n",
    "    return model.q_grid_out[t,i] + model.q_bat_in[t,i] + sum(model.q_share[t,i,j] for j in prosumer_old) == PV.loc[t,i]\n",
    "model.PV_con = Constraint(prosumer_old, time_steps, rule = PV_constraint_rule)\n",
    "\n",
    "def SoC_min_constraint_rule(model, i, t):\n",
    "    return model.SoC[t,i] >= prosumer_data.loc[SoC_min][i]\n",
    "model.SoC_min_con = Constraint(prosumer_old, time_steps, rule = SoC_min_constraint_rule)\n",
    "\n",
    "def SoC_max_constraint_rule(model, i, t):\n",
    "    return model.SoC[t,i] <= prosumer_data.loc[SoC_max][i]\n",
    "model.SoC_max_con = Constraint(prosumer_old, time_steps, rule = SoC_max_constraint_rule)\n",
    "\n",
    "def q_bat_in_constraint_rule(model, i, t):\n",
    "    return model.q_bat_in[t,i] <= prosumer_data.loc[q_bat_max][i]\n",
    "model.q_bat_in_con = Constraint(prosumer_old, time_steps, rule = q_bat_in_constraint_rule)\n",
    "\n",
    "def q_bat_out_constraint_rule(model, i, t):\n",
    "    return model.q_bat_out[t,i] <= prosumer_data.loc[q_bat_max][i]\n",
    "model.q_bat_out_con = Constraint(prosumer_old, time_steps, rule = q_bat_out_constraint_rule)\n",
    "\n",
    "def SoC_constraint_rule(model, i, t):\n",
    "    if t == 0:\n",
    "        return model.SoC[time_steps[t],i] == 0 + model.q_bat_in[time_steps[t],i]*eta_battery - model.q_bat_out[time_steps[t],i]/eta_battery\n",
    "    elif t > 0:\n",
    "        return model.SoC[time_steps[t],i] == model.SoC[time_steps[t-1],i] + model.q_bat_in[time_steps[t],i]*eta_battery - model.q_bat_out[time_steps[t],i]/eta_battery\n",
    "model.SoC_con = Constraint(prosumer_old, index_time, rule = SoC_constraint_rule)"
   ]
  },
  {
   "cell_type": "code",
   "execution_count": 28,
   "metadata": {},
   "outputs": [],
   "source": [
    "# Objective function\n",
    "community_welfare = {new_list: [] for new_list in prosumer_old}\n",
    "prosumer_welfare = {new_list: [] for new_list in prosumer_old}\n",
    "prosumer_welfare2 = {new_list: [] for new_list in prosumer_old}\n",
    "\n",
    "\n",
    "for i in prosumer_old:\n",
    "    community_welfare[i] = sum(-p_grid_in*model.q_grid_in[t,i]+p_grid_out*model.q_grid_out[t,i] for t in time_steps)\n",
    "    prosumer_welfare[i] = sum((p_grid_in + (prosumer_data.loc[w,j] - distances.loc[i,j])*emissions.Emissions.loc[t]/1000000)*model.q_share[t,i,j] for j in prosumer_old for t in time_steps)\n",
    "    prosumer_welfare2[i] = sum((p_grid_in + (prosumer_data.loc[w,i] - distances.loc[j,i])*emissions.Emissions.loc[t]/1000000)*model.q_share[t,j,i] for j in prosumer_old for t in time_steps)\n",
    "\n",
    "# 1. prosumer i sells to prosumer j\n",
    "# 2. prosumer i buys from prosumer j"
   ]
  },
  {
   "cell_type": "code",
   "execution_count": 29,
   "metadata": {},
   "outputs": [],
   "source": [
    "model.obj = Objective(\n",
    "    expr = sum(community_welfare[i] + prosumer_welfare[i] for i in prosumer_old), \n",
    "    sense = maximize)\n",
    "\n",
    "opt = SolverFactory('gurobi')\n",
    "opt_success = opt.solve(model)"
   ]
  },
  {
   "cell_type": "code",
   "execution_count": 30,
   "metadata": {},
   "outputs": [],
   "source": [
    "# Evaluate the results\n",
    "social_welfare_old = value(model.obj)\n",
    "\n",
    "q_share_total = pd.DataFrame(index=prosumer_old)\n",
    "for j in prosumer_old:\n",
    "    a = []\n",
    "    for i in prosumer_old:\n",
    "        a.append(value(sum(model.q_share[t,i,j] for t in time_steps)))\n",
    "    q_share_total[j] = a\n",
    "\n",
    "results_old = pd.DataFrame(index=prosumer_old)\n",
    "for i in prosumer_old:\n",
    "    results_old.loc[i,'buying grid'] = value(sum(model.q_grid_in[t,i] for t in time_steps))\n",
    "    results_old.loc[i,'selling grid'] = value(sum(model.q_grid_out[t,i] for t in time_steps))\n",
    "    results_old.loc[i,'battery charging'] = value(sum(model.q_bat_in[t,i] for t in time_steps))\n",
    "    results_old.loc[i,'battery discharging'] = value(sum(model.q_bat_out[t,i] for t in time_steps))\n",
    "    results_old.loc[i,'self-consumption'] = q_share_total.loc[i,i]\n",
    "    results_old.loc[i,'buying community'] = sum(q_share_total.loc[j,i] for j in prosumer_old) - q_share_total.loc[i,i]\n",
    "    results_old.loc[i,'selling community'] = sum(q_share_total.loc[i,j] for j in prosumer_old) - q_share_total.loc[i,i]\n",
    "    results_old.loc[i,'emissions'] = value(sum(model.q_grid_in[t,i]*emissions.Emissions.loc[t]/1000000 for t in time_steps))\n",
    "    results_old.loc[i,'costs'] = value(-community_welfare[i]) - value(prosumer_welfare[i]) + value(prosumer_welfare2[i]) \n"
   ]
  },
  {
   "cell_type": "code",
   "execution_count": 31,
   "metadata": {},
   "outputs": [
    {
     "data": {
      "text/html": [
       "<div>\n",
       "<style scoped>\n",
       "    .dataframe tbody tr th:only-of-type {\n",
       "        vertical-align: middle;\n",
       "    }\n",
       "\n",
       "    .dataframe tbody tr th {\n",
       "        vertical-align: top;\n",
       "    }\n",
       "\n",
       "    .dataframe thead th {\n",
       "        text-align: right;\n",
       "    }\n",
       "</style>\n",
       "<table border=\"1\" class=\"dataframe\">\n",
       "  <thead>\n",
       "    <tr style=\"text-align: right;\">\n",
       "      <th></th>\n",
       "      <th>buying grid</th>\n",
       "      <th>selling grid</th>\n",
       "      <th>battery charging</th>\n",
       "      <th>battery discharging</th>\n",
       "      <th>self-consumption</th>\n",
       "      <th>buying community</th>\n",
       "      <th>selling community</th>\n",
       "      <th>emissions</th>\n",
       "      <th>costs</th>\n",
       "    </tr>\n",
       "  </thead>\n",
       "  <tbody>\n",
       "    <tr>\n",
       "      <th>Prosumer 1</th>\n",
       "      <td>4510.253007</td>\n",
       "      <td>3289.249678</td>\n",
       "      <td>0.0</td>\n",
       "      <td>0.0</td>\n",
       "      <td>907.149977</td>\n",
       "      <td>1210.157037</td>\n",
       "      <td>2264.286345</td>\n",
       "      <td>2.416859</td>\n",
       "      <td>465.463040</td>\n",
       "    </tr>\n",
       "    <tr>\n",
       "      <th>Prosumer 3</th>\n",
       "      <td>3000.809994</td>\n",
       "      <td>150.342416</td>\n",
       "      <td>0.0</td>\n",
       "      <td>0.0</td>\n",
       "      <td>1068.155836</td>\n",
       "      <td>1620.499299</td>\n",
       "      <td>2641.295749</td>\n",
       "      <td>1.630305</td>\n",
       "      <td>406.823110</td>\n",
       "    </tr>\n",
       "    <tr>\n",
       "      <th>Prosumer 5</th>\n",
       "      <td>2266.839860</td>\n",
       "      <td>4190.546731</td>\n",
       "      <td>0.0</td>\n",
       "      <td>0.0</td>\n",
       "      <td>1465.466590</td>\n",
       "      <td>29.771293</td>\n",
       "      <td>804.672679</td>\n",
       "      <td>1.212674</td>\n",
       "      <td>98.269883</td>\n",
       "    </tr>\n",
       "    <tr>\n",
       "      <th>Prosumer 6</th>\n",
       "      <td>4850.309627</td>\n",
       "      <td>0.000000</td>\n",
       "      <td>0.0</td>\n",
       "      <td>0.0</td>\n",
       "      <td>0.000000</td>\n",
       "      <td>2849.827144</td>\n",
       "      <td>0.000000</td>\n",
       "      <td>2.611638</td>\n",
       "      <td>1648.660090</td>\n",
       "    </tr>\n",
       "  </tbody>\n",
       "</table>\n",
       "</div>"
      ],
      "text/plain": [
       "            buying grid  selling grid  battery charging  battery discharging  \\\n",
       "Prosumer 1  4510.253007   3289.249678               0.0                  0.0   \n",
       "Prosumer 3  3000.809994    150.342416               0.0                  0.0   \n",
       "Prosumer 5  2266.839860   4190.546731               0.0                  0.0   \n",
       "Prosumer 6  4850.309627      0.000000               0.0                  0.0   \n",
       "\n",
       "            self-consumption  buying community  selling community  emissions  \\\n",
       "Prosumer 1        907.149977       1210.157037        2264.286345   2.416859   \n",
       "Prosumer 3       1068.155836       1620.499299        2641.295749   1.630305   \n",
       "Prosumer 5       1465.466590         29.771293         804.672679   1.212674   \n",
       "Prosumer 6          0.000000       2849.827144           0.000000   2.611638   \n",
       "\n",
       "                  costs  \n",
       "Prosumer 1   465.463040  \n",
       "Prosumer 3   406.823110  \n",
       "Prosumer 5    98.269883  \n",
       "Prosumer 6  1648.660090  "
      ]
     },
     "execution_count": 31,
     "metadata": {},
     "output_type": "execute_result"
    }
   ],
   "source": [
    "results_old"
   ]
  },
  {
   "cell_type": "code",
   "execution_count": 32,
   "metadata": {},
   "outputs": [
    {
     "data": {
      "text/plain": [
       "-523.6415606924937"
      ]
     },
     "execution_count": 32,
     "metadata": {},
     "output_type": "execute_result"
    }
   ],
   "source": [
    "social_welfare_old"
   ]
  },
  {
   "cell_type": "code",
   "execution_count": 33,
   "metadata": {},
   "outputs": [
    {
     "data": {
      "text/html": [
       "<div>\n",
       "<style scoped>\n",
       "    .dataframe tbody tr th:only-of-type {\n",
       "        vertical-align: middle;\n",
       "    }\n",
       "\n",
       "    .dataframe tbody tr th {\n",
       "        vertical-align: top;\n",
       "    }\n",
       "\n",
       "    .dataframe thead th {\n",
       "        text-align: right;\n",
       "    }\n",
       "</style>\n",
       "<table border=\"1\" class=\"dataframe\">\n",
       "  <thead>\n",
       "    <tr style=\"text-align: right;\">\n",
       "      <th></th>\n",
       "      <th>Prosumer 1</th>\n",
       "      <th>Prosumer 3</th>\n",
       "      <th>Prosumer 5</th>\n",
       "      <th>Prosumer 6</th>\n",
       "    </tr>\n",
       "  </thead>\n",
       "  <tbody>\n",
       "    <tr>\n",
       "      <th>Prosumer 1</th>\n",
       "      <td>907.149977</td>\n",
       "      <td>1225.814568</td>\n",
       "      <td>23.285942</td>\n",
       "      <td>1015.185835</td>\n",
       "    </tr>\n",
       "    <tr>\n",
       "      <th>Prosumer 3</th>\n",
       "      <td>1098.372097</td>\n",
       "      <td>1068.155836</td>\n",
       "      <td>6.485351</td>\n",
       "      <td>1536.438300</td>\n",
       "    </tr>\n",
       "    <tr>\n",
       "      <th>Prosumer 5</th>\n",
       "      <td>111.784940</td>\n",
       "      <td>394.684732</td>\n",
       "      <td>1465.466590</td>\n",
       "      <td>298.203008</td>\n",
       "    </tr>\n",
       "    <tr>\n",
       "      <th>Prosumer 6</th>\n",
       "      <td>0.000000</td>\n",
       "      <td>0.000000</td>\n",
       "      <td>0.000000</td>\n",
       "      <td>0.000000</td>\n",
       "    </tr>\n",
       "  </tbody>\n",
       "</table>\n",
       "</div>"
      ],
      "text/plain": [
       "             Prosumer 1   Prosumer 3   Prosumer 5   Prosumer 6\n",
       "Prosumer 1   907.149977  1225.814568    23.285942  1015.185835\n",
       "Prosumer 3  1098.372097  1068.155836     6.485351  1536.438300\n",
       "Prosumer 5   111.784940   394.684732  1465.466590   298.203008\n",
       "Prosumer 6     0.000000     0.000000     0.000000     0.000000"
      ]
     },
     "execution_count": 33,
     "metadata": {},
     "output_type": "execute_result"
    }
   ],
   "source": [
    "q_share_total"
   ]
  },
  {
   "cell_type": "markdown",
   "metadata": {},
   "source": [
    "## Write to IAMC format"
   ]
  },
  {
   "cell_type": "code",
   "execution_count": 34,
   "metadata": {},
   "outputs": [],
   "source": [
    "# Define function \n",
    "\n",
    "def write_IAMC(output_df, model, scenario, region, variable, unit, time, values):\n",
    "    \n",
    "    _df=pd.DataFrame({'model': model,\n",
    "                  'scenario': scenario,\n",
    "                  'region': region,\n",
    "                  'variable': variable,\n",
    "                  'unit': unit,\n",
    "                  'time': time,\n",
    "                  'value': values})\n",
    "    output_df = output_df.append(_df)\n",
    "    return output_df\n"
   ]
  },
  {
   "cell_type": "code",
   "execution_count": 35,
   "metadata": {},
   "outputs": [],
   "source": [
    "output_iamc = pd.DataFrame()"
   ]
  },
  {
   "cell_type": "markdown",
   "metadata": {},
   "source": [
    "### Write annual data to IAMC format"
   ]
  },
  {
   "cell_type": "code",
   "execution_count": 36,
   "metadata": {},
   "outputs": [],
   "source": [
    "_value = [value(sum(model.q_grid_out[t,i] for i in prosumer_old for t in time_steps))]\n",
    "output_iamc = write_IAMC(output_iamc, model_name, scenario_name, region_name, 'Secondary Energy|Electricity|Solar|PV', 'kWh/yr', start_date+time_zone, _value)\n",
    "\n",
    "_value = [value(sum(model.q_grid_in[t,i] for i in prosumer_old for t in time_steps))]\n",
    "output_iamc = write_IAMC(output_iamc, model_name, scenario_name, region_name, 'Final Energy|Residential and Commercial|Electricity', 'kWh/yr', start_date+time_zone, _value)\n",
    "\n",
    "_value = [value(sum(model.q_grid_in[t,i]*emissions.Emissions.loc[t]/1000000 for i in prosumer_old for t in time_steps))]\n",
    "output_iamc = write_IAMC(output_iamc, model_name, scenario_name, region_name, 'Emissions|CO2', 'tCO2/yr', start_date+time_zone, _value)"
   ]
  },
  {
   "cell_type": "markdown",
   "metadata": {},
   "source": [
    "### Write hourly data to IAMC format"
   ]
  },
  {
   "cell_type": "code",
   "execution_count": 37,
   "metadata": {},
   "outputs": [],
   "source": [
    "# selling to the grid as a community (hourly resolution)\n",
    "_value = []\n",
    "for t in time_steps:\n",
    "    _value.append(value(sum(model.q_grid_out[t,i] for i in prosumer_old)))\n",
    "    \n",
    "output_iamc = write_IAMC(output_iamc, model_name, scenario_name, region_name, 'Secondary Energy|Electricity|Solar|PV', 'kWh', time_steps, _value)"
   ]
  },
  {
   "cell_type": "code",
   "execution_count": 38,
   "metadata": {},
   "outputs": [],
   "source": [
    "# buying from the grid as a community (hourly resolution)\n",
    "_value = []\n",
    "for t in time_steps:\n",
    "    _value.append(value(sum(model.q_grid_in[t,i] for i in prosumer_old)))\n",
    "    \n",
    "output_iamc = write_IAMC(output_iamc, model_name, scenario_name, region_name, 'Final Energy|Residential and Commercial|Electricity', 'kWh', time_steps, _value)"
   ]
  },
  {
   "cell_type": "code",
   "execution_count": 39,
   "metadata": {},
   "outputs": [],
   "source": [
    "# emissions of the community (hourly resolution)\n",
    "_value = []\n",
    "for t in time_steps:\n",
    "    _value.append(value(sum(model.q_grid_in[t,i]*emissions.Emissions.loc[t]/1000000 for i in prosumer_old)))\n",
    "    \n",
    "output_iamc = write_IAMC(output_iamc, model_name, scenario_name, region_name, 'Emissions|CO2', 'tCO2', time_steps, _value)"
   ]
  },
  {
   "cell_type": "code",
   "execution_count": 40,
   "metadata": {},
   "outputs": [
    {
     "data": {
      "text/html": [
       "<div>\n",
       "<style scoped>\n",
       "    .dataframe tbody tr th:only-of-type {\n",
       "        vertical-align: middle;\n",
       "    }\n",
       "\n",
       "    .dataframe tbody tr th {\n",
       "        vertical-align: top;\n",
       "    }\n",
       "\n",
       "    .dataframe thead th {\n",
       "        text-align: right;\n",
       "    }\n",
       "</style>\n",
       "<table border=\"1\" class=\"dataframe\">\n",
       "  <thead>\n",
       "    <tr style=\"text-align: right;\">\n",
       "      <th></th>\n",
       "      <th>model</th>\n",
       "      <th>scenario</th>\n",
       "      <th>region</th>\n",
       "      <th>variable</th>\n",
       "      <th>unit</th>\n",
       "      <th>time</th>\n",
       "      <th>value</th>\n",
       "    </tr>\n",
       "  </thead>\n",
       "  <tbody>\n",
       "    <tr>\n",
       "      <th>0</th>\n",
       "      <td>FRESH:COM v1.0</td>\n",
       "      <td>Default scenario</td>\n",
       "      <td>Austria</td>\n",
       "      <td>Secondary Energy|Electricity|Solar|PV</td>\n",
       "      <td>kWh/yr</td>\n",
       "      <td>2019-01-01 00:00+01:00</td>\n",
       "      <td>7630.138825</td>\n",
       "    </tr>\n",
       "    <tr>\n",
       "      <th>0</th>\n",
       "      <td>FRESH:COM v1.0</td>\n",
       "      <td>Default scenario</td>\n",
       "      <td>Austria</td>\n",
       "      <td>Final Energy|Residential and Commercial|Electr...</td>\n",
       "      <td>kWh/yr</td>\n",
       "      <td>2019-01-01 00:00+01:00</td>\n",
       "      <td>14628.212489</td>\n",
       "    </tr>\n",
       "    <tr>\n",
       "      <th>0</th>\n",
       "      <td>FRESH:COM v1.0</td>\n",
       "      <td>Default scenario</td>\n",
       "      <td>Austria</td>\n",
       "      <td>Emissions|CO2</td>\n",
       "      <td>tCO2/yr</td>\n",
       "      <td>2019-01-01 00:00+01:00</td>\n",
       "      <td>7.871476</td>\n",
       "    </tr>\n",
       "    <tr>\n",
       "      <th>0</th>\n",
       "      <td>FRESH:COM v1.0</td>\n",
       "      <td>Default scenario</td>\n",
       "      <td>Austria</td>\n",
       "      <td>Secondary Energy|Electricity|Solar|PV</td>\n",
       "      <td>kWh</td>\n",
       "      <td>2019-01-01 00:00:00+01:00</td>\n",
       "      <td>0.000000</td>\n",
       "    </tr>\n",
       "    <tr>\n",
       "      <th>1</th>\n",
       "      <td>FRESH:COM v1.0</td>\n",
       "      <td>Default scenario</td>\n",
       "      <td>Austria</td>\n",
       "      <td>Secondary Energy|Electricity|Solar|PV</td>\n",
       "      <td>kWh</td>\n",
       "      <td>2019-01-01 01:00:00+01:00</td>\n",
       "      <td>0.000000</td>\n",
       "    </tr>\n",
       "    <tr>\n",
       "      <th>...</th>\n",
       "      <td>...</td>\n",
       "      <td>...</td>\n",
       "      <td>...</td>\n",
       "      <td>...</td>\n",
       "      <td>...</td>\n",
       "      <td>...</td>\n",
       "      <td>...</td>\n",
       "    </tr>\n",
       "    <tr>\n",
       "      <th>8755</th>\n",
       "      <td>FRESH:COM v1.0</td>\n",
       "      <td>Default scenario</td>\n",
       "      <td>Austria</td>\n",
       "      <td>Emissions|CO2</td>\n",
       "      <td>tCO2</td>\n",
       "      <td>2019-12-31 19:00:00+01:00</td>\n",
       "      <td>0.001365</td>\n",
       "    </tr>\n",
       "    <tr>\n",
       "      <th>8756</th>\n",
       "      <td>FRESH:COM v1.0</td>\n",
       "      <td>Default scenario</td>\n",
       "      <td>Austria</td>\n",
       "      <td>Emissions|CO2</td>\n",
       "      <td>tCO2</td>\n",
       "      <td>2019-12-31 20:00:00+01:00</td>\n",
       "      <td>0.000945</td>\n",
       "    </tr>\n",
       "    <tr>\n",
       "      <th>8757</th>\n",
       "      <td>FRESH:COM v1.0</td>\n",
       "      <td>Default scenario</td>\n",
       "      <td>Austria</td>\n",
       "      <td>Emissions|CO2</td>\n",
       "      <td>tCO2</td>\n",
       "      <td>2019-12-31 21:00:00+01:00</td>\n",
       "      <td>0.000982</td>\n",
       "    </tr>\n",
       "    <tr>\n",
       "      <th>8758</th>\n",
       "      <td>FRESH:COM v1.0</td>\n",
       "      <td>Default scenario</td>\n",
       "      <td>Austria</td>\n",
       "      <td>Emissions|CO2</td>\n",
       "      <td>tCO2</td>\n",
       "      <td>2019-12-31 22:00:00+01:00</td>\n",
       "      <td>0.000591</td>\n",
       "    </tr>\n",
       "    <tr>\n",
       "      <th>8759</th>\n",
       "      <td>FRESH:COM v1.0</td>\n",
       "      <td>Default scenario</td>\n",
       "      <td>Austria</td>\n",
       "      <td>Emissions|CO2</td>\n",
       "      <td>tCO2</td>\n",
       "      <td>2019-12-31 23:00:00+01:00</td>\n",
       "      <td>0.000561</td>\n",
       "    </tr>\n",
       "  </tbody>\n",
       "</table>\n",
       "<p>26283 rows × 7 columns</p>\n",
       "</div>"
      ],
      "text/plain": [
       "               model          scenario   region  \\\n",
       "0     FRESH:COM v1.0  Default scenario  Austria   \n",
       "0     FRESH:COM v1.0  Default scenario  Austria   \n",
       "0     FRESH:COM v1.0  Default scenario  Austria   \n",
       "0     FRESH:COM v1.0  Default scenario  Austria   \n",
       "1     FRESH:COM v1.0  Default scenario  Austria   \n",
       "...              ...               ...      ...   \n",
       "8755  FRESH:COM v1.0  Default scenario  Austria   \n",
       "8756  FRESH:COM v1.0  Default scenario  Austria   \n",
       "8757  FRESH:COM v1.0  Default scenario  Austria   \n",
       "8758  FRESH:COM v1.0  Default scenario  Austria   \n",
       "8759  FRESH:COM v1.0  Default scenario  Austria   \n",
       "\n",
       "                                               variable     unit  \\\n",
       "0                 Secondary Energy|Electricity|Solar|PV   kWh/yr   \n",
       "0     Final Energy|Residential and Commercial|Electr...   kWh/yr   \n",
       "0                                         Emissions|CO2  tCO2/yr   \n",
       "0                 Secondary Energy|Electricity|Solar|PV      kWh   \n",
       "1                 Secondary Energy|Electricity|Solar|PV      kWh   \n",
       "...                                                 ...      ...   \n",
       "8755                                      Emissions|CO2     tCO2   \n",
       "8756                                      Emissions|CO2     tCO2   \n",
       "8757                                      Emissions|CO2     tCO2   \n",
       "8758                                      Emissions|CO2     tCO2   \n",
       "8759                                      Emissions|CO2     tCO2   \n",
       "\n",
       "                           time         value  \n",
       "0        2019-01-01 00:00+01:00   7630.138825  \n",
       "0        2019-01-01 00:00+01:00  14628.212489  \n",
       "0        2019-01-01 00:00+01:00      7.871476  \n",
       "0     2019-01-01 00:00:00+01:00      0.000000  \n",
       "1     2019-01-01 01:00:00+01:00      0.000000  \n",
       "...                         ...           ...  \n",
       "8755  2019-12-31 19:00:00+01:00      0.001365  \n",
       "8756  2019-12-31 20:00:00+01:00      0.000945  \n",
       "8757  2019-12-31 21:00:00+01:00      0.000982  \n",
       "8758  2019-12-31 22:00:00+01:00      0.000591  \n",
       "8759  2019-12-31 23:00:00+01:00      0.000561  \n",
       "\n",
       "[26283 rows x 7 columns]"
      ]
     },
     "execution_count": 40,
     "metadata": {},
     "output_type": "execute_result"
    }
   ],
   "source": [
    "output_iamc"
   ]
  },
  {
   "cell_type": "code",
   "execution_count": 41,
   "metadata": {},
   "outputs": [],
   "source": [
    "output_iamc['time'] = output_iamc['time'].astype('string')"
   ]
  },
  {
   "cell_type": "code",
   "execution_count": 86,
   "metadata": {},
   "outputs": [],
   "source": [
    "#output_iamc = nomenclature.swap_time_for_subannual(pyam.IamDataFrame(output_iamc))"
   ]
  },
  {
   "cell_type": "code",
   "execution_count": 42,
   "metadata": {
    "scrolled": true
   },
   "outputs": [],
   "source": [
    "output_iamc.to_excel(filename_output, index=None)"
   ]
  },
  {
   "cell_type": "markdown",
   "metadata": {},
   "source": [
    "# Part 2: Choosing new prosumers (currently under development)\n",
    "\n",
    "... as MILP"
   ]
  },
  {
   "cell_type": "code",
   "execution_count": null,
   "metadata": {},
   "outputs": [],
   "source": [
    "prosumer_old"
   ]
  },
  {
   "cell_type": "code",
   "execution_count": null,
   "metadata": {},
   "outputs": [],
   "source": [
    "# Define prosumers who are leaving the community\n",
    "prosumer_out = (['Prosumer 3'])\n",
    "for i in prosumer_out:\n",
    "    prosumer_old.remove(i)\n",
    "prosumer_old"
   ]
  },
  {
   "cell_type": "code",
   "execution_count": null,
   "metadata": {},
   "outputs": [],
   "source": [
    "prosumer_new = (['Prosumer 2','Prosumer 4'])"
   ]
  },
  {
   "cell_type": "code",
   "execution_count": null,
   "metadata": {},
   "outputs": [],
   "source": [
    "prosumer = []\n",
    "for i in prosumer_old:\n",
    "    prosumer.append(i)\n",
    "for i in prosumer_new:\n",
    "    prosumer.append(i)"
   ]
  },
  {
   "cell_type": "code",
   "execution_count": null,
   "metadata": {},
   "outputs": [],
   "source": [
    "prosumer"
   ]
  },
  {
   "cell_type": "code",
   "execution_count": null,
   "metadata": {},
   "outputs": [],
   "source": [
    "epsilon = 0.2"
   ]
  },
  {
   "cell_type": "code",
   "execution_count": null,
   "metadata": {},
   "outputs": [],
   "source": [
    "# loop to check requirements\n",
    "\n",
    "combination = pd.DataFrame(index=prosumer)\n",
    "solution_found = False\n",
    "index_iteration = 0\n",
    "while solution_found == False:\n",
    "#for index_iteration in range(6):\n",
    "    # Define model as concrete model\n",
    "    model = ConcreteModel()\n",
    "\n",
    "    #Define optimization variables \n",
    "    model.q_share = Var(time_steps, prosumer, prosumer, within = NonNegativeReals)\n",
    "    model.q_grid_in = Var(time_steps, prosumer, within = NonNegativeReals)\n",
    "    model.q_grid_out = Var(time_steps, prosumer, within = NonNegativeReals)\n",
    "    model.q_bat_in = Var(time_steps, prosumer, within = NonNegativeReals)\n",
    "    model.q_bat_out = Var(time_steps, prosumer, within = NonNegativeReals)\n",
    "    model.SoC = Var(time_steps, prosumer, within = NonNegativeReals)\n",
    "    model.b = Var(prosumer, within=Binary)\n",
    "\n",
    "    # Define constraints\n",
    "    def load_constraint_rule(model, i, t):    \n",
    "        return model.q_grid_in[t,i] + model.q_bat_out[t,i] + sum(model.q_share[t,j,i] for j in prosumer) == model.b[i]*load.loc[t,i]\n",
    "    model.load_con = Constraint(prosumer, time_steps, rule = load_constraint_rule)\n",
    "\n",
    "    def PV_constraint_rule(model, i, t):    \n",
    "        return model.q_grid_out[t,i] + model.q_bat_in[t,i] + sum(model.q_share[t,i,j] for j in prosumer) == model.b[i]*PV.loc[t,i]\n",
    "    model.PV_con = Constraint(prosumer, time_steps, rule = PV_constraint_rule)\n",
    "\n",
    "    def SoC_min_constraint_rule(model, i, t):\n",
    "        return model.SoC[t,i] >= model.b[i]*prosumer_data.loc['SoC_min'][i]\n",
    "    model.SoC_min_con = Constraint(prosumer, time_steps, rule = SoC_min_constraint_rule)\n",
    "\n",
    "    def SoC_max_constraint_rule(model, i, t):\n",
    "        return model.SoC[t,i] <= model.b[i]*prosumer_data.loc['SoC_max'][i]\n",
    "    model.SoC_max_con = Constraint(prosumer, time_steps, rule = SoC_max_constraint_rule)\n",
    "\n",
    "    def q_bat_in_constraint_rule(model, i, t):\n",
    "        return model.q_bat_in[t,i] <= model.b[i]*prosumer_data.loc['q_bat_max'][i]\n",
    "    model.q_bat_in_con = Constraint(prosumer, time_steps, rule = q_bat_in_constraint_rule)\n",
    "\n",
    "    def q_bat_out_constraint_rule(model, i, t):\n",
    "        return model.q_bat_out[t,i] <= model.b[i]*prosumer_data.loc['q_bat_max'][i]\n",
    "    model.q_bat_out_con = Constraint(prosumer, time_steps, rule = q_bat_out_constraint_rule)\n",
    "\n",
    "    def SoC_constraint_rule(model, i, t):\n",
    "        if t == 0:\n",
    "            return model.SoC[time_steps[t],i] == prosumer_data.loc['SoC_init'][i] + model.q_bat_in[time_steps[t],i]*eta_battery - model.q_bat_out[time_steps[t],i]/eta_battery\n",
    "        elif t > 0:\n",
    "            return model.SoC[time_steps[t],i] == model.SoC[time_steps[t-1],i] + model.q_bat_in[time_steps[t],i]*eta_battery - model.q_bat_out[time_steps[t],i]/eta_battery\n",
    "    model.SoC_con = Constraint(prosumer, index_time, rule = SoC_constraint_rule)\n",
    "\n",
    "    def binary_rule(model,i):\n",
    "            return model.b[i] == True\n",
    "    model.b_con = Constraint(prosumer_old, rule = binary_rule)\n",
    "\n",
    "    #def binary_rule_out(model,i):\n",
    "    #        return model.b[i] == False\n",
    "    #model.b_con_out = Constraint(prosumer_excluded, rule = binary_rule_out)\n",
    "\n",
    "    def combination_rule(model, k):\n",
    "            return sum(model.b[i] + combination.loc[i,k] - 2*model.b[i]*combination.loc[i,k] for i in prosumer_new) >= 1\n",
    "    model.b_con_combination = Constraint(np.arange(1,index_iteration+1), rule = combination_rule)\n",
    "\n",
    "    def maximum_new_prosumer_rule(model):\n",
    "        return sum(model.b[i] for i in prosumer_new) <= 2\n",
    "    model.max_prosumer_con = Constraint(rule = maximum_new_prosumer_rule)\n",
    "\n",
    "    # Objective function\n",
    "    community_welfare = {new_list: [] for new_list in prosumer}\n",
    "    prosumer_welfare = {new_list: [] for new_list in prosumer}\n",
    "    prosumer_welfare2 = {new_list: [] for new_list in prosumer}\n",
    "\n",
    "\n",
    "    for i in prosumer:\n",
    "        community_welfare[i] = sum(-p_grid_in*model.q_grid_in[t,i]+p_grid_out*model.q_grid_out[t,i] for t in time_steps)\n",
    "        prosumer_welfare[i] = sum((p_grid_in + (prosumer_data.loc['w',j] - distances.loc[i,j])*emissions.Emissions.loc[t]/1000000)*model.q_share[t,i,j] for j in prosumer for t in time_steps)\n",
    "        prosumer_welfare2[i] = sum((p_grid_in + (prosumer_data.loc['w',i] - distances.loc[j,i])*emissions.Emissions.loc[t]/1000000)*model.q_share[t,j,i] for j in prosumer for t in time_steps)\n",
    "\n",
    "    # 1. prosumer i sells to prosumer j\n",
    "    # 2. prosumer i buys from prosumer j\n",
    "    \n",
    "    model.obj = Objective(\n",
    "        expr = sum(community_welfare[i] + prosumer_welfare[i] for i in prosumer), \n",
    "        sense = maximize)\n",
    "\n",
    "    opt = SolverFactory('gurobi')\n",
    "    opt_success = opt.solve(model)\n",
    "    \n",
    "    if opt_success.solver.status == SolverStatus.ok:\n",
    "        solution_found = True\n",
    "    else:\n",
    "        print('Some problem occured...check constraints')\n",
    "        break\n",
    "        \n",
    "    print(value(model.obj))\n",
    "    for i in prosumer: \n",
    "        combination.loc[i,index_iteration+1] = value(model.b[i])\n",
    "    \n",
    "    results = pd.DataFrame(index=prosumer)\n",
    "    for i in prosumer:\n",
    "        results.loc[i,'emissions'] = value(sum(model.q_grid_in[t,i]*emissions.Emissions.loc[t]/1000 for t in time_steps))\n",
    "        results.loc[i,'costs'] = value(-community_welfare[i]) - value(prosumer_welfare[i]) + value(prosumer_welfare2[i]) \n",
    "    \n",
    "    for i in prosumer_old:\n",
    "        if (prosumer_data.loc['alpha',i]*((results.loc[i,'costs']-results_old.loc[i,'costs'])/abs(results_old.loc[i,'costs'])) + (1-prosumer_data.loc['alpha',i])*((results.loc[i,'emissions']-results_old.loc[i,'emissions'])/results_old.loc[i,'emissions'])) > epsilon:\n",
    "            solution_found = False\n",
    "            index_iteration += 1\n",
    "            break"
   ]
  },
  {
   "cell_type": "code",
   "execution_count": null,
   "metadata": {
    "scrolled": true
   },
   "outputs": [],
   "source": [
    "combination"
   ]
  },
  {
   "cell_type": "markdown",
   "metadata": {},
   "source": [
    "## Show results of optimization problem"
   ]
  },
  {
   "cell_type": "markdown",
   "metadata": {},
   "source": [
    "### P2P trading in detail "
   ]
  },
  {
   "cell_type": "code",
   "execution_count": null,
   "metadata": {},
   "outputs": [],
   "source": [
    "q_share_total = pd.DataFrame(index=prosumer)\n",
    "for j in prosumer:\n",
    "    a = []\n",
    "    for i in prosumer:\n",
    "        a.append(value(sum(model.q_share[t,i,j] for t in time_steps)))\n",
    "    q_share_total[j] = a\n",
    "q_share_total"
   ]
  },
  {
   "cell_type": "code",
   "execution_count": null,
   "metadata": {},
   "outputs": [],
   "source": [
    "# Draw a heatmap with the numeric values in each cell\n",
    "f, ax = plt.subplots(figsize=(9, 6))\n",
    "sns.heatmap(q_share_total, annot=True, cmap=\"Blues\", linewidths=.5, ax=ax)"
   ]
  },
  {
   "cell_type": "markdown",
   "metadata": {},
   "source": [
    "### Costs, emissions, etc for each prosumer"
   ]
  },
  {
   "cell_type": "code",
   "execution_count": null,
   "metadata": {},
   "outputs": [],
   "source": [
    "results = pd.DataFrame(index=prosumer)\n",
    "for i in prosumer:\n",
    "    results.loc[i,'buying grid'] = value(sum(model.q_grid_in[t,i] for t in time_steps))\n",
    "    results.loc[i,'selling grid'] = value(sum(model.q_grid_out[t,i] for t in time_steps))\n",
    "    results.loc[i,'battery charging'] = value(sum(model.q_bat_in[t,i] for t in time_steps))\n",
    "    results.loc[i,'battery discharging'] = value(sum(model.q_bat_out[t,i] for t in time_steps))\n",
    "    results.loc[i,'self-consumption'] = q_share_total.loc[i,i]\n",
    "    results.loc[i,'buying community'] = sum(q_share_total.loc[j,i] for j in prosumer) - q_share_total.loc[i,i]\n",
    "    results.loc[i,'selling community'] = sum(q_share_total.loc[i,j] for j in prosumer) - q_share_total.loc[i,i]\n",
    "    results.loc[i,'emissions'] = value(sum(model.q_grid_in[t,i]*emissions.Emissions.loc[t]/1000 for t in time_steps))\n",
    "    results.loc[i,'costs'] = value(-community_welfare[i]) - value(prosumer_welfare[i]) + value(prosumer_welfare2[i])  \n",
    "results"
   ]
  },
  {
   "cell_type": "markdown",
   "metadata": {},
   "source": [
    "## Initialize new status quo"
   ]
  },
  {
   "cell_type": "code",
   "execution_count": null,
   "metadata": {},
   "outputs": [],
   "source": [
    "results_old = results"
   ]
  },
  {
   "cell_type": "code",
   "execution_count": null,
   "metadata": {},
   "outputs": [],
   "source": [
    "prosumer_old = []\n",
    "for i in prosumer:\n",
    "    if value(model.b[i]) == 1:\n",
    "        prosumer_old.append(i)"
   ]
  },
  {
   "cell_type": "code",
   "execution_count": null,
   "metadata": {},
   "outputs": [],
   "source": [
    "prosumer_old"
   ]
  },
  {
   "cell_type": "markdown",
   "metadata": {},
   "source": [
    "## License\n",
    "\n",
    "   [<img style=\"float: right;\" src=\"https://img.shields.io/badge/License-Apache%202.0-blue.svg\">](https://opensource.org/licenses/Apache-2.0)\n",
    "   \n",
    "   Copyright 2020 Theresia Perger\n",
    "\n",
    "   Licensed under the Apache License, Version 2.0 (the \"License\");\n",
    "   you may not use this file except in compliance with the License.\n",
    "   You may obtain a copy of the License at\n",
    "\n",
    "     http://www.apache.org/licenses/LICENSE-2.0\n",
    "\n",
    "   Unless required by applicable law or agreed to in writing, software\n",
    "   distributed under the License is distributed on an \"AS IS\" BASIS,\n",
    "   WITHOUT WARRANTIES OR CONDITIONS OF ANY KIND, either express or implied.\n",
    "   See the License for the specific language governing permissions and\n",
    "   limitations under the License."
   ]
  },
  {
   "cell_type": "markdown",
   "metadata": {},
   "source": [
    "## Refererences"
   ]
  }
 ],
 "metadata": {
  "kernelspec": {
   "display_name": "Python 3",
   "language": "python",
   "name": "python3"
  },
  "language_info": {
   "codemirror_mode": {
    "name": "ipython",
    "version": 3
   },
   "file_extension": ".py",
   "mimetype": "text/x-python",
   "name": "python",
   "nbconvert_exporter": "python",
   "pygments_lexer": "ipython3",
   "version": "3.7.2"
  }
 },
 "nbformat": 4,
 "nbformat_minor": 4
}
